{
  "nbformat": 4,
  "nbformat_minor": 0,
  "metadata": {
    "colab": {
      "provenance": []
    },
    "kernelspec": {
      "name": "python3",
      "display_name": "Python 3"
    },
    "language_info": {
      "name": "python"
    }
  },
  "cells": [
    {
      "cell_type": "code",
      "source": [
        "!pip install pulser"
      ],
      "metadata": {
        "colab": {
          "base_uri": "https://localhost:8080/"
        },
        "id": "tHnPs0seLFmn",
        "outputId": "0abbec08-71a1-4797-af77-4b2c629917be"
      },
      "execution_count": 1,
      "outputs": [
        {
          "output_type": "stream",
          "name": "stdout",
          "text": [
            "Looking in indexes: https://pypi.org/simple, https://us-python.pkg.dev/colab-wheels/public/simple/\n",
            "Collecting pulser\n",
            "  Downloading pulser-0.11.1-py3-none-any.whl (6.8 kB)\n",
            "Collecting pulser-simulation==0.11.1\n",
            "  Downloading pulser_simulation-0.11.1-py3-none-any.whl (27 kB)\n",
            "Collecting pulser-pasqal==0.11.1\n",
            "  Downloading pulser_pasqal-0.11.1-py3-none-any.whl (9.7 kB)\n",
            "Collecting pulser-core==0.11.1\n",
            "  Downloading pulser_core-0.11.1-py3-none-any.whl (133 kB)\n",
            "\u001b[2K     \u001b[90m━━━━━━━━━━━━━━━━━━━━━━━━━━━━━━━━━━━━━━━\u001b[0m \u001b[32m133.4/133.4 kB\u001b[0m \u001b[31m5.8 MB/s\u001b[0m eta \u001b[36m0:00:00\u001b[0m\n",
            "\u001b[?25hRequirement already satisfied: matplotlib in /usr/local/lib/python3.10/dist-packages (from pulser-core==0.11.1->pulser) (3.7.1)\n",
            "Requirement already satisfied: scipy in /usr/local/lib/python3.10/dist-packages (from pulser-core==0.11.1->pulser) (1.10.1)\n",
            "Requirement already satisfied: numpy!=1.24.0,>=1.20 in /usr/local/lib/python3.10/dist-packages (from pulser-core==0.11.1->pulser) (1.22.4)\n",
            "Requirement already satisfied: jsonschema in /usr/local/lib/python3.10/dist-packages (from pulser-core==0.11.1->pulser) (4.3.3)\n",
            "Collecting pasqal-sdk<0.1.15,>=0.1.12\n",
            "  Downloading pasqal_sdk-0.1.14-py3-none-any.whl (20 kB)\n",
            "Collecting qutip>=4.7.1\n",
            "  Downloading qutip-4.7.1-cp310-cp310-manylinux_2_17_x86_64.manylinux2014_x86_64.whl (16.2 MB)\n",
            "\u001b[2K     \u001b[90m━━━━━━━━━━━━━━━━━━━━━━━━━━━━━━━━━━━━━━━━\u001b[0m \u001b[32m16.2/16.2 MB\u001b[0m \u001b[31m26.9 MB/s\u001b[0m eta \u001b[36m0:00:00\u001b[0m\n",
            "\u001b[?25hCollecting pyjwt[crypto]==2.5.0\n",
            "  Downloading PyJWT-2.5.0-py3-none-any.whl (20 kB)\n",
            "Collecting requests-mock==1.9.3\n",
            "  Downloading requests_mock-1.9.3-py2.py3-none-any.whl (27 kB)\n",
            "Collecting requests==2.25.1\n",
            "  Downloading requests-2.25.1-py2.py3-none-any.whl (61 kB)\n",
            "\u001b[2K     \u001b[90m━━━━━━━━━━━━━━━━━━━━━━━━━━━━━━━━━━━━━━━━\u001b[0m \u001b[32m61.2/61.2 kB\u001b[0m \u001b[31m4.2 MB/s\u001b[0m eta \u001b[36m0:00:00\u001b[0m\n",
            "\u001b[?25hRequirement already satisfied: cryptography>=3.3.1 in /usr/local/lib/python3.10/dist-packages (from pyjwt[crypto]==2.5.0->pasqal-sdk<0.1.15,>=0.1.12->pulser-pasqal==0.11.1->pulser) (40.0.2)\n",
            "Collecting types-cryptography>=3.3.21\n",
            "  Downloading types_cryptography-3.3.23.2-py3-none-any.whl (30 kB)\n",
            "Requirement already satisfied: certifi>=2017.4.17 in /usr/local/lib/python3.10/dist-packages (from requests==2.25.1->pasqal-sdk<0.1.15,>=0.1.12->pulser-pasqal==0.11.1->pulser) (2022.12.7)\n",
            "Requirement already satisfied: chardet<5,>=3.0.2 in /usr/local/lib/python3.10/dist-packages (from requests==2.25.1->pasqal-sdk<0.1.15,>=0.1.12->pulser-pasqal==0.11.1->pulser) (4.0.0)\n",
            "Requirement already satisfied: urllib3<1.27,>=1.21.1 in /usr/local/lib/python3.10/dist-packages (from requests==2.25.1->pasqal-sdk<0.1.15,>=0.1.12->pulser-pasqal==0.11.1->pulser) (1.26.15)\n",
            "Collecting idna<3,>=2.5\n",
            "  Downloading idna-2.10-py2.py3-none-any.whl (58 kB)\n",
            "\u001b[2K     \u001b[90m━━━━━━━━━━━━━━━━━━━━━━━━━━━━━━━━━━━━━━━━\u001b[0m \u001b[32m58.8/58.8 kB\u001b[0m \u001b[31m3.4 MB/s\u001b[0m eta \u001b[36m0:00:00\u001b[0m\n",
            "\u001b[?25hRequirement already satisfied: six in /usr/local/lib/python3.10/dist-packages (from requests-mock==1.9.3->pasqal-sdk<0.1.15,>=0.1.12->pulser-pasqal==0.11.1->pulser) (1.16.0)\n",
            "Requirement already satisfied: packaging in /usr/local/lib/python3.10/dist-packages (from qutip>=4.7.1->pulser-simulation==0.11.1->pulser) (23.1)\n",
            "Requirement already satisfied: pyrsistent!=0.17.0,!=0.17.1,!=0.17.2,>=0.14.0 in /usr/local/lib/python3.10/dist-packages (from jsonschema->pulser-core==0.11.1->pulser) (0.19.3)\n",
            "Requirement already satisfied: attrs>=17.4.0 in /usr/local/lib/python3.10/dist-packages (from jsonschema->pulser-core==0.11.1->pulser) (23.1.0)\n",
            "Requirement already satisfied: python-dateutil>=2.7 in /usr/local/lib/python3.10/dist-packages (from matplotlib->pulser-core==0.11.1->pulser) (2.8.2)\n",
            "Requirement already satisfied: kiwisolver>=1.0.1 in /usr/local/lib/python3.10/dist-packages (from matplotlib->pulser-core==0.11.1->pulser) (1.4.4)\n",
            "Requirement already satisfied: cycler>=0.10 in /usr/local/lib/python3.10/dist-packages (from matplotlib->pulser-core==0.11.1->pulser) (0.11.0)\n",
            "Requirement already satisfied: fonttools>=4.22.0 in /usr/local/lib/python3.10/dist-packages (from matplotlib->pulser-core==0.11.1->pulser) (4.39.3)\n",
            "Requirement already satisfied: contourpy>=1.0.1 in /usr/local/lib/python3.10/dist-packages (from matplotlib->pulser-core==0.11.1->pulser) (1.0.7)\n",
            "Requirement already satisfied: pillow>=6.2.0 in /usr/local/lib/python3.10/dist-packages (from matplotlib->pulser-core==0.11.1->pulser) (8.4.0)\n",
            "Requirement already satisfied: pyparsing>=2.3.1 in /usr/local/lib/python3.10/dist-packages (from matplotlib->pulser-core==0.11.1->pulser) (3.0.9)\n",
            "Requirement already satisfied: cffi>=1.12 in /usr/local/lib/python3.10/dist-packages (from cryptography>=3.3.1->pyjwt[crypto]==2.5.0->pasqal-sdk<0.1.15,>=0.1.12->pulser-pasqal==0.11.1->pulser) (1.15.1)\n",
            "Requirement already satisfied: pycparser in /usr/local/lib/python3.10/dist-packages (from cffi>=1.12->cryptography>=3.3.1->pyjwt[crypto]==2.5.0->pasqal-sdk<0.1.15,>=0.1.12->pulser-pasqal==0.11.1->pulser) (2.21)\n",
            "Installing collected packages: types-cryptography, pyjwt, idna, requests, qutip, requests-mock, pulser-core, pulser-simulation, pasqal-sdk, pulser-pasqal, pulser\n",
            "  Attempting uninstall: idna\n",
            "    Found existing installation: idna 3.4\n",
            "    Uninstalling idna-3.4:\n",
            "      Successfully uninstalled idna-3.4\n",
            "  Attempting uninstall: requests\n",
            "    Found existing installation: requests 2.27.1\n",
            "    Uninstalling requests-2.27.1:\n",
            "      Successfully uninstalled requests-2.27.1\n",
            "\u001b[31mERROR: pip's dependency resolver does not currently take into account all the packages that are installed. This behaviour is the source of the following dependency conflicts.\n",
            "yfinance 0.2.18 requires requests>=2.26, but you have requests 2.25.1 which is incompatible.\n",
            "tweepy 4.13.0 requires requests<3,>=2.27.0, but you have requests 2.25.1 which is incompatible.\n",
            "google-colab 1.0.0 requires requests>=2.27.0, but you have requests 2.25.1 which is incompatible.\u001b[0m\u001b[31m\n",
            "\u001b[0mSuccessfully installed idna-2.10 pasqal-sdk-0.1.14 pulser-0.11.1 pulser-core-0.11.1 pulser-pasqal-0.11.1 pulser-simulation-0.11.1 pyjwt-2.5.0 qutip-4.7.1 requests-2.25.1 requests-mock-1.9.3 types-cryptography-3.3.23.2\n"
          ]
        }
      ]
    },
    {
      "cell_type": "code",
      "execution_count": 2,
      "metadata": {
        "colab": {
          "base_uri": "https://localhost:8080/"
        },
        "id": "scZ5yFPNLD4C",
        "outputId": "3140fd99-4e72-4bb6-f4eb-366531b38b78"
      },
      "outputs": [
        {
          "output_type": "stream",
          "name": "stdout",
          "text": [
            "p0: [0.40472642 0.59527358]\n",
            "proba: (0.42041015625, 0.57958984375)\n"
          ]
        }
      ],
      "source": [
        "import numpy as np\n",
        "from scipy.optimize import minimize\n",
        "from pulser import Sequence, Register, Pulse\n",
        "from pulser.devices import Chadoq2\n",
        "from pulser_simulation import Simulation\n",
        "from gate_pulses import u3_pulse\n",
        "\n",
        "def composition(u, v):\n",
        "    def func(x):\n",
        "        return v(u(x))\n",
        "    return func\n",
        "\n",
        "def get_proba(N_samples=2048):\n",
        "    def func(v):\n",
        "        gamma, theta, phi = v\n",
        "        reg = Register({\"q0\": (0,0)})\n",
        "        seq = Sequence(reg, Chadoq2)\n",
        "        seq.declare_channel(\"raman\", \"raman_local\", initial_target=\"q0\")\n",
        "        seq.add(u3_pulse(gamma, theta, phi), \"raman\")\n",
        "        seq.measure(basis=\"digital\")\n",
        "        sim = Simulation(seq)\n",
        "        res = sim.run()\n",
        "        states = res.sample_final_state(N_samples=N_samples)\n",
        "\n",
        "        return states['0']/N_samples, states['1']/N_samples\n",
        "    return func\n",
        "\n",
        "\n",
        "def mae(x):\n",
        "    def func(y):\n",
        "        return np.linalg.norm(np.array(x) - np.array(y), 1)\n",
        "    return func\n",
        "\n",
        "if __name__ == \"__main__\":\n",
        "    p0 = np.random.random((2,))\n",
        "    p0 = p0 / np.linalg.norm(p0, 1)\n",
        "    #p0 = np.array([0.51357006, .4864298094])\n",
        "    res = minimize(\n",
        "            composition(get_proba(), mae(p0)),\n",
        "            x0=2*np.pi*np.random.random((3,)),\n",
        "            method=\"COBYLA\",\n",
        "            tol=1e-4,\n",
        "            options={\"maxiter\": 500}\n",
        "            )\n",
        "\n",
        "    print(f'p0: {p0}\\nproba: {get_proba()(res.x)}')"
      ]
    },
    {
      "cell_type": "code",
      "source": [],
      "metadata": {
        "id": "6FWexbA1N5xB"
      },
      "execution_count": null,
      "outputs": []
    }
  ]
}