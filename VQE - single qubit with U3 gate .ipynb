{
 "cells": [
  {
   "cell_type": "code",
   "execution_count": 1,
   "metadata": {},
   "outputs": [],
   "source": [
    "# |0> - U3(theta, phi, lambda) - |Psi(theta, phi, lambda)> = U3(theta, phi, lambda)|0>\n",
    "\n",
    "# We want multiple measurements of |psi(theta, phi, lambda)> in the Z-basis\n",
    "# to match a predefined probability distribution (target distribution): \n",
    "# p_target = [x_target, y_target], with x_target + y_target = 1\n",
    "\n",
    "# We use the COBYLA optimizer \n",
    "# We measure our error with the Manhattan distance: d(A,B) = |x_target - x_output| + |y_target - y_output|"
   ]
  },
  {
   "cell_type": "code",
   "execution_count": 2,
   "metadata": {},
   "outputs": [
    {
     "name": "stdout",
     "output_type": "stream",
     "text": [
      "[0.51357006 0.48642994]\n"
     ]
    }
   ],
   "source": [
    "# We first create the random probability vector in python:\n",
    "\n",
    "import numpy as np\n",
    "\n",
    "np.random.seed(999999)\n",
    "\n",
    "target_distr = np.random.rand(2)\n",
    "# We now convert the random vector into a valid probability vector\n",
    "target_distr /= sum(target_distr)\n",
    "\n",
    "print(target_distr)"
   ]
  },
  {
   "cell_type": "code",
   "execution_count": 3,
   "metadata": {},
   "outputs": [],
   "source": [
    "# We subsequently create a function that takes the parameters of our single U3 variational form \n",
    "# as arguments and returns the corresponding quantum circuit:\n",
    "\n",
    "from qiskit import *\n",
    "\n",
    "def get_var_form(params):\n",
    "    qr = QuantumRegister(1, name=\"q\")\n",
    "    cr = ClassicalRegister(1, name='c')\n",
    "    qc = QuantumCircuit(qr, cr)\n",
    "    qc.u3(params[0], params[1], params[2], qr[0])\n",
    "    qc.measure(qr, cr[0])\n",
    "    return qc"
   ]
  },
  {
   "cell_type": "code",
   "execution_count": 4,
   "metadata": {},
   "outputs": [],
   "source": [
    "# Now we specify the objective function which takes as input a list of the variational \n",
    "# form's parameters, and returns the cost associated with those parameters:\n",
    "\n",
    "backend = Aer.get_backend(\"qasm_simulator\")\n",
    "NUM_SHOTS = 10000\n",
    "\n",
    "def get_probability_distribution(counts):\n",
    "    output_distr = [v / NUM_SHOTS for v in counts.values()]\n",
    "    if len(output_distr) == 1:\n",
    "        output_distr.append(1 - output_distr[0])\n",
    "    return output_distr\n",
    "\n",
    "def objective_function(params):\n",
    "    # Obtain a quantum circuit instance from the paramters\n",
    "    qc = get_var_form(params)\n",
    "    # Execute the quantum circuit to obtain the probability distribution associated with the current parameters\n",
    "    job = execute(qc, backend=backend, shots=NUM_SHOTS)\n",
    "    result = job.result()\n",
    "    # Obtain the counts for each measured state, and convert those counts into a probability vector\n",
    "    output_distr = get_probability_distribution(result.get_counts(qc))\n",
    "    # Calculate the cost as the distance between the output distribution and the target distribution\n",
    "    cost = sum([np.abs(output_distr[i] - target_distr[i]) for i in range(2)])\n",
    "    return cost"
   ]
  },
  {
   "cell_type": "code",
   "execution_count": 5,
   "metadata": {},
   "outputs": [
    {
     "name": "stdout",
     "output_type": "stream",
     "text": [
      "Target Distribution: [0.51357006 0.48642994]\n",
      "Obtained Distribution: [0.5279, 0.4721]\n",
      "Output Error (Manhattan Distance): 0.017259881261160848\n",
      "Parameters Found: [1.51953868 1.49204907 1.76658905]\n"
     ]
    }
   ],
   "source": [
    "# Finally, we create an instance of the COBYLA optimizer, and run the algorithm:\n",
    "\n",
    "from qiskit.aqua.components.optimizers import COBYLA\n",
    "\n",
    "# Initialize the COBYLA optimizer\n",
    "optimizer = COBYLA(maxiter=500, tol=0.0001)\n",
    "\n",
    "# Create the initial parameters (noting that our single qubit variational form has 3 parameters)\n",
    "params = np.random.rand(3)\n",
    "ret = optimizer.optimize(num_vars=3, objective_function=objective_function, initial_point=params)\n",
    "\n",
    "# Obtain the output distribution using the final parameters\n",
    "qc = get_var_form(ret[0]) \n",
    "job = execute(qc, backend=backend, shots=NUM_SHOTS)\n",
    "counts = job.result().get_counts()\n",
    "output_distr = get_probability_distribution(counts)\n",
    "\n",
    "print(\"Target Distribution:\", target_distr)\n",
    "print(\"Obtained Distribution:\", output_distr)\n",
    "print(\"Output Error (Manhattan Distance):\", ret[1])\n",
    "print(\"Parameters Found:\", ret[0])"
   ]
  },
  {
   "cell_type": "code",
   "execution_count": null,
   "metadata": {},
   "outputs": [],
   "source": []
  }
 ],
 "metadata": {
  "kernelspec": {
   "display_name": "Python 3",
   "language": "python",
   "name": "python3"
  },
  "language_info": {
   "codemirror_mode": {
    "name": "ipython",
    "version": 3
   },
   "file_extension": ".py",
   "mimetype": "text/x-python",
   "name": "python",
   "nbconvert_exporter": "python",
   "pygments_lexer": "ipython3",
   "version": "3.7.4"
  }
 },
 "nbformat": 4,
 "nbformat_minor": 2
}
